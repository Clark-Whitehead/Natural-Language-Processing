{
  "nbformat": 4,
  "nbformat_minor": 0,
  "metadata": {
    "colab": {
      "name": "ngram_word_template.ipynb",
      "provenance": [],
      "collapsed_sections": []
    },
    "kernelspec": {
      "name": "python3",
      "display_name": "Python 3"
    }
  },
  "cells": [
    {
      "cell_type": "code",
      "metadata": {
        "id": "vZC9xokNtm7-",
        "outputId": "743ec2a5-06c7-415c-c3f4-bd732f487cce",
        "colab": {
          "base_uri": "https://localhost:8080/"
        }
      },
      "source": [
        "# Requires extra packages.\n",
        "!pip install tqdm boto3 requests regex sentencepiece sacremoses\n",
        "!pip install tokenizers\n",
        "import pickle\n",
        "import cloudpickle as cp\n",
        "import math\n",
        "import sklearn.metrics # Area Under the ROC calculations.\n",
        "import matplotlib.pylab as plt # Plotting\n",
        "from urllib.request import urlopen\n",
        "import torch\n",
        "#Downloads a tokenizer that will automatically convert words to indices in a big dictionary.\n",
        "tokenizer = torch.hub.load('huggingface/pytorch-transformers', 'tokenizer', 'bert-base-uncased')   \n",
        "# Download tweets.\n",
        "lst_donald_trump_tweets = cp.load(urlopen(\"https://raw.githubusercontent.com/gomachinelearning/Blogs/master/DonaldTrumpTweets.pickle\"))\n",
        "lst_joe_biden_tweets = cp.load(urlopen(\"https://raw.githubusercontent.com/gomachinelearning/Blogs/master/JoeBidenTweets.pickle\"))"
      ],
      "execution_count": 121,
      "outputs": [
        {
          "output_type": "stream",
          "text": [
            "Requirement already satisfied: tqdm in /usr/local/lib/python3.6/dist-packages (4.41.1)\n",
            "Requirement already satisfied: boto3 in /usr/local/lib/python3.6/dist-packages (1.16.9)\n",
            "Requirement already satisfied: requests in /usr/local/lib/python3.6/dist-packages (2.23.0)\n",
            "Requirement already satisfied: regex in /usr/local/lib/python3.6/dist-packages (2019.12.20)\n",
            "Requirement already satisfied: sentencepiece in /usr/local/lib/python3.6/dist-packages (0.1.94)\n",
            "Requirement already satisfied: sacremoses in /usr/local/lib/python3.6/dist-packages (0.0.43)\n",
            "Requirement already satisfied: botocore<1.20.0,>=1.19.9 in /usr/local/lib/python3.6/dist-packages (from boto3) (1.19.9)\n",
            "Requirement already satisfied: s3transfer<0.4.0,>=0.3.0 in /usr/local/lib/python3.6/dist-packages (from boto3) (0.3.3)\n",
            "Requirement already satisfied: jmespath<1.0.0,>=0.7.1 in /usr/local/lib/python3.6/dist-packages (from boto3) (0.10.0)\n",
            "Requirement already satisfied: certifi>=2017.4.17 in /usr/local/lib/python3.6/dist-packages (from requests) (2020.6.20)\n",
            "Requirement already satisfied: chardet<4,>=3.0.2 in /usr/local/lib/python3.6/dist-packages (from requests) (3.0.4)\n",
            "Requirement already satisfied: urllib3!=1.25.0,!=1.25.1,<1.26,>=1.21.1 in /usr/local/lib/python3.6/dist-packages (from requests) (1.24.3)\n",
            "Requirement already satisfied: idna<3,>=2.5 in /usr/local/lib/python3.6/dist-packages (from requests) (2.10)\n",
            "Requirement already satisfied: joblib in /usr/local/lib/python3.6/dist-packages (from sacremoses) (0.17.0)\n",
            "Requirement already satisfied: six in /usr/local/lib/python3.6/dist-packages (from sacremoses) (1.15.0)\n",
            "Requirement already satisfied: click in /usr/local/lib/python3.6/dist-packages (from sacremoses) (7.1.2)\n",
            "Requirement already satisfied: python-dateutil<3.0.0,>=2.1 in /usr/local/lib/python3.6/dist-packages (from botocore<1.20.0,>=1.19.9->boto3) (2.8.1)\n",
            "Requirement already satisfied: tokenizers in /usr/local/lib/python3.6/dist-packages (0.9.3)\n"
          ],
          "name": "stdout"
        },
        {
          "output_type": "stream",
          "text": [
            "Using cache found in /root/.cache/torch/hub/huggingface_pytorch-transformers_master\n"
          ],
          "name": "stderr"
        }
      ]
    },
    {
      "cell_type": "code",
      "metadata": {
        "id": "IHoTOSVCrPnh",
        "outputId": "b6f422d1-646f-4ae3-ae5e-18cfcedf19e6",
        "colab": {
          "base_uri": "https://localhost:8080/"
        }
      },
      "source": [
        "tweet = \"% Sorry losers and haters, but my I.Q. is one of the highest\"\n",
        "indexed_tokens = tokenizer.encode(tweet, add_special_tokens=True) \n",
        "# Create transition matrix as sparse matrix to save memory.\n",
        "print(indexed_tokens)\n",
        "n = tokenizer.vocab_size\n",
        "print(n)\n",
        "\n",
        "# Example. \n",
        "print('Here are the start and stop tokens: ', tokenizer.encode(''))\n",
        "print('Here are the start and stop tokens decoded: ', tokenizer.decode(tokenizer.encode('')))\n",
        "# Example 2.\n",
        "tweet = \"Sorry losers and haters, but my I.Q. is one of the highest\"\n",
        "indexed_tokens = tokenizer.encode(tweet, add_special_tokens=True) \n",
        "print('Example encoded tweet: ', indexed_tokens)\n",
        "print('Example dencoded tweet: ', tokenizer.decode(indexed_tokens, skip_special_tokens=True))"
      ],
      "execution_count": 122,
      "outputs": [
        {
          "output_type": "stream",
          "text": [
            "[101, 1003, 3374, 23160, 1998, 5223, 2869, 1010, 2021, 2026, 1045, 1012, 1053, 1012, 2003, 2028, 1997, 1996, 3284, 102]\n",
            "30522\n",
            "Here are the start and stop tokens:  [101, 102]\n",
            "Here are the start and stop tokens decoded:  [CLS] [SEP]\n",
            "Example encoded tweet:  [101, 3374, 23160, 1998, 5223, 2869, 1010, 2021, 2026, 1045, 1012, 1053, 1012, 2003, 2028, 1997, 1996, 3284, 102]\n",
            "Example dencoded tweet:  sorry losers and haters, but my i. q. is one of the highest\n"
          ],
          "name": "stdout"
        }
      ]
    },
    {
      "cell_type": "code",
      "metadata": {
        "id": "6nF1cUsczanX"
      },
      "source": [
        "import numpy as np\n",
        "from scipy.sparse import csr_matrix, lil_matrix\n",
        "from sklearn.preprocessing import normalize\n",
        "\n",
        "class word_ngram():\n",
        "    def __init__(self):\n",
        "        self.tokenizer = torch.hub.load('huggingface/pytorch-transformers',\n",
        "                                        'tokenizer',\n",
        "                                        'bert-base-uncased')    # Download vocabulary from S3 and cache.\n",
        "        print('Model initialized with vocab size: ', self.tokenizer.vocab_size) # 30522\n",
        "        self.stop_token = self.tokenizer.encode(self.tokenizer.sep_token,\n",
        "                                                add_special_tokens=False)[0]\n",
        "\n",
        "        return\n",
        "    \n",
        "    def fit(self, data):\n",
        "        '''\n",
        "        Learn transition probabilities from data.\n",
        "        Input:\n",
        "            data = list of tokenized strings to train on.\n",
        "        '''\n",
        "\n",
        "        # Create transition matrix as sparse matrix to save memory.\n",
        "        n = self.tokenizer.vocab_size\n",
        "        self.transitions = lil_matrix((n,n), dtype=np.float)\n",
        "        rowTransitionsCount = 0\n",
        "        for tweet in data[0:-1000]:\n",
        "          indexed_tokens = tokenizer.encode(tweet, add_special_tokens=True)\n",
        "          for i in range(len(indexed_tokens)-1):\n",
        "            self.transitions[indexed_tokens[i], indexed_tokens[i+1]] += 1\n",
        "            rowTransitionsCount += 1\n",
        "        \n",
        "        for i in range(self.transitions.shape[0]):\n",
        "          self.transitions[i] = self.transitions[i] / np.sum(self.transitions[i])\n",
        "\n",
        "\n",
        "        # This function will make sure each row sum to one.\n",
        "        self.transitions = normalize(self.transitions, norm='l1', axis=1)\n",
        "        return\n",
        "    \n",
        "    def evaluate(self, data):\n",
        "        '''\n",
        "        Calculate the average log probability of the character transitions.\n",
        "        Input:\n",
        "            data = list of tokenized strings to train on.\n",
        "        Returns:\n",
        "            mean_logp = (float) average of the log2 probability of the transitions in the data.\n",
        "        '''\n",
        "        # if type(data) is str:\n",
        "        #   data = [data] # Interpret as list of length 1.\n",
        "\n",
        "        logp_sum = 0\n",
        "        count = 0\n",
        "\n",
        "        tweet = tokenizer.encode(data, add_special_tokens=True)\n",
        "        for i in range(len(tweet)-1):\n",
        "            p = self.transitions[tweet[i], tweet[i+1]]\n",
        "            if p == 0:\n",
        "              self.transitions[tweet[i], tweet[i+1]] = 0.001\n",
        "            p = self.transitions[tweet[i], tweet[i+1]]\n",
        "            logp_sum += np.log2(p) \n",
        "            count += 1\n",
        "        mean_logp = logp_sum / count\n",
        "        return mean_logp\n",
        "\n",
        "    \n",
        "    def generate(self, N, prompt=''):\n",
        "        '''\n",
        "        Generate a random string of length N starting from prompt.\n",
        "        This has been written\n",
        "        '''\n",
        "        tokens = self.tokenizer.encode(prompt,add_special_tokens=True)\n",
        "        tokens = tokens[:-1]  # Remove stop token ('[SEP]').\n",
        "        for i in range(len(tokens), N):\n",
        "          prev_token = tokens[i-1]\n",
        "          # Get non-zero probabilities from sparse matrix.\n",
        "          probs = self.transitions[prev_token, :]\n",
        "          row = self.transitions[prev_token,:]\n",
        "          _, indices = row.nonzero()\n",
        "          if indices is not None and len(indices) > 0:\n",
        "            probs = row[0, indices].toarray().flatten()\n",
        "            # Randomly sample from choices with non-zero probs.\n",
        "            next_token = np.random.choice(indices, p=probs)\n",
        "          else:\n",
        "            # Just append a common word. There are obviously better solutions.\n",
        "            next_token = tokenizer.encode('the', add_special_tokens=False)[0]\n",
        "          # Append the token to the generated sequence.\n",
        "          tokens.append(next_token)\n",
        "          if tokens[-1] == 102:  \n",
        "            break #\n",
        "        text = self.tokenizer.decode(tokens, skip_special_tokens=True)\n",
        "        return text\n",
        "\n"
      ],
      "execution_count": 123,
      "outputs": []
    },
    {
      "cell_type": "code",
      "metadata": {
        "id": "yKje5sSpsRlG",
        "outputId": "5b230c8f-391a-4dc4-d2b5-11d6a4345757",
        "colab": {
          "base_uri": "https://localhost:8080/",
          "height": 1000
        }
      },
      "source": [
        "gramTrump = word_ngram()\n",
        "gramTrump.fit(lst_donald_trump_tweets)\n",
        "gramBiden = word_ngram()\n",
        "gramBiden.fit(lst_joe_biden_tweets)\n",
        "\n",
        "print(\"\\n--Start--Trump-vs-Biden--tweet-predictions--\")\n",
        "\n",
        "def trumpTweets(prompt):\n",
        "  #---------------------TRUMP---------------------------------------\n",
        "  print(\"\\n\")\n",
        "  tweetSize = 30\n",
        "  tweetPrompt = prompt\n",
        "  tweet = gramTrump.generate(tweetSize, tweetPrompt)\n",
        "  print(\"----------------------------------------------------\")\n",
        "  print(\"Generated trump tweet of size \", tweetSize, \" and prompt \", tweetPrompt, \":\")\n",
        "  print(tweet)\n",
        "  print(\"----------------------------------------------------\")\n",
        "\n",
        "def bidenTweets(prompt):\n",
        "  #-------------BIDEN--------------------------------------------\n",
        "  print(\"\\n\")\n",
        "  tweetSize = 30\n",
        "  tweetPrompt = prompt\n",
        "  tweet = gramBiden.generate(tweetSize, tweetPrompt)\n",
        "  print(\"----------------------------------------------------\")\n",
        "  print(\"Generated Biden tweet of size \", tweetSize, \" and prompt \", tweetPrompt, \":\")\n",
        "  print(tweet)\n",
        "  print(\"----------------------------------------------------\")\n",
        "\n",
        "trumpTweets(\"My thoughts on George Floyd are \")\n",
        "bidenTweets(\"Climate crisis \")\n",
        "trumpTweets(\"Climate crisis \")\n",
        "bidenTweets(\"My thoughts on George Floyd are \")\n",
        "\n",
        "#-----------------EVALUATE TRUMP---------------------\n",
        "print()\n",
        "print(\"----------------------------------------------------\")\n",
        "print(\"\\nEvaluate last string in Trump data using Mean Log Likelihood\" )\n",
        "print(\"Last string:\\n\", lst_donald_trump_tweets[-1])\n",
        "\n",
        "trumpLikelihood = gramTrump.evaluate(lst_donald_trump_tweets[-1])\n",
        "print(\"Mean_logp = \", trumpLikelihood)\n",
        "print(\"----------------------------------------------------\\n\")\n",
        "\n",
        "#-----------------EVALUATE BIDEN---------------------\n",
        "print()\n",
        "print(\"----------------------------------------------------\")\n",
        "print(\"Evaluate last string in Trump data using Mean Log Likelihood\" )\n",
        "print(\"Last string:\\n\", lst_donald_trump_tweets[-1])\n",
        "bidenLikelihood = gramBiden.evaluate(lst_donald_trump_tweets[-1])\n",
        "print(\"Mean_logp = \", bidenLikelihood)\n",
        "print(\"----------------------------------------------------\")\n",
        "\n",
        "#-----------------BAYES RULE---------------------\n",
        "print(\"----------------------------------------------------\")\n",
        "print(\"Using bayes rules to pick who wrote the last tweet in trumps data\")\n",
        "likelihoodTrumpGivenTweet = 1 / (1 + math.exp(bidenLikelihood - trumpLikelihood))\n",
        "print(\"likelihoodTrump = \", likelihoodTrumpGivenTweet)\n",
        "likelihoodBidenGivenTweet = 1 / (1 + math.exp(trumpLikelihood - bidenLikelihood))\n",
        "print(\"likelihoodBiden = \", likelihoodBidenGivenTweet)\n",
        "\n",
        "#-----------------TEST SET ROC---------------------\n",
        "testTrump = lst_donald_trump_tweets[-1000:]\n",
        "testBiden = lst_joe_biden_tweets[-1000:]\n",
        "\n",
        "countFP = 0 #False Positive Count\n",
        "countTP = 0 #True Positive Count\n",
        "countFN = 0 #False Negative Count\n",
        "countTN = 0 #True Negative count\n",
        "\n",
        "#---Matrix for roc curve sklearn-----\n",
        "rocMatrix = np.zeros(shape=(2000, 2))\n",
        "rocMatrix[:1000,0] = 1\n",
        "rocMatrix[1000:,0] = 0\n",
        "\n",
        "trumpTestCount = 0\n",
        "for tweet in testTrump:\n",
        "  trumpLikelihood = gramTrump.evaluate(tweet)\n",
        "  bidenLikelihood = gramBiden.evaluate(tweet)\n",
        "  likelihoodTrumpGivenTweet = 1 / (1 + math.exp(bidenLikelihood - trumpLikelihood))\n",
        "  likelihoodBidenGivenTweet = 1 / (1 + math.exp(trumpLikelihood - bidenLikelihood))\n",
        "\n",
        "  if likelihoodTrumpGivenTweet <= .5:\n",
        "    countFN += 1\n",
        "  if likelihoodTrumpGivenTweet > .5:\n",
        "    rocMatrix[trumpTestCount, 1] = 1\n",
        "    countTP += 1\n",
        "  if likelihoodBidenGivenTweet <= .5:\n",
        "    countTN += 1\n",
        "  if likelihoodBidenGivenTweet > .5:\n",
        "    countFP += 1\n",
        "\n",
        "  trumpTestCount += 1\n",
        "\n",
        "bidenTestCount = 1000\n",
        "for tweet in testBiden:\n",
        "  bidenLikelihood = gramBiden.evaluate(tweet)\n",
        "  trumpLikelihood = gramTrump.evaluate(tweet)\n",
        "  likelihoodBidenGivenTweet = 1 / (1 + math.exp(trumpLikelihood - bidenLikelihood))\n",
        "  likelihoodTrumpGivenTweet = 1 / (1 + math.exp(bidenLikelihood - trumpLikelihood))\n",
        "\n",
        "  if likelihoodTrumpGivenTweet > .5:\n",
        "    rocMatrix[bidenTestCount,1] = 1\n",
        "    countFP += 1\n",
        "  if likelihoodTrumpGivenTweet <= .5:\n",
        "    countTN += 1\n",
        "  if likelihoodBidenGivenTweet > .5:\n",
        "    countTP += 1\n",
        "  if likelihoodBidenGivenTweet <= .5:\n",
        "    countFN += 1 \n",
        "\n",
        "  bidenTestCount += 1\n",
        "\n",
        "\n",
        "auroc = (countTP + countTN) / (countTP + countFP + countTN + countFN)\n",
        "\n",
        "print(\"\\n------ROC----------\")\n",
        "print(\"Accuracy = \", auroc)\n",
        "\n",
        "# fpr = countFP / (countFP + countTN)\n",
        "# tpr = countTP / (countTP + countFN)\n",
        "fpr, tpr, thresholds = sklearn.metrics.roc_curve(rocMatrix[:,0], rocMatrix[:,1])\n",
        "print(\"fpr and tpr = \", fpr, \" - \", tpr)\n",
        "# Plot ROC curve.\n",
        "plt.plot(fpr, tpr)\n",
        "plt.plot([0, 1], [0, 1], color='navy', linestyle='--')\n",
        "plt.xlim([0.0, 1.0])\n",
        "plt.ylim([0.0, 1.05])\n",
        "plt.xlabel('False Positive Rate')\n",
        "plt.ylabel('True Positive Rate')"
      ],
      "execution_count": 124,
      "outputs": [
        {
          "output_type": "stream",
          "text": [
            "Using cache found in /root/.cache/torch/hub/huggingface_pytorch-transformers_master\n"
          ],
          "name": "stderr"
        },
        {
          "output_type": "stream",
          "text": [
            "Model initialized with vocab size:  30522\n"
          ],
          "name": "stdout"
        },
        {
          "output_type": "stream",
          "text": [
            "Using cache found in /root/.cache/torch/hub/huggingface_pytorch-transformers_master\n"
          ],
          "name": "stderr"
        },
        {
          "output_type": "stream",
          "text": [
            "Model initialized with vocab size:  30522\n",
            "\n",
            "--Start--Trump-vs-Biden--tweet-predictions--\n",
            "\n",
            "\n",
            "----------------------------------------------------\n",
            "Generated trump tweet of size  30  and prompt  My thoughts on George Floyd are  :\n",
            "my thoughts on george floyd are on this was blowing everybody arrive, other very goodnews tonight a reliable supply is the massive navy veteran, let\n",
            "----------------------------------------------------\n",
            "\n",
            "\n",
            "----------------------------------------------------\n",
            "Generated Biden tweet of size  30  and prompt  Climate crisis  :\n",
            "climate crisis and we can have had to go back. https : / / / t. it ’ t. i applaudq + equality\n",
            "----------------------------------------------------\n",
            "\n",
            "\n",
            "----------------------------------------------------\n",
            "Generated trump tweet of size  30  and prompt  Climate crisis  :\n",
            "climate crisis, and uphold the plague.. nobody better than 5m\n",
            "----------------------------------------------------\n",
            "\n",
            "\n",
            "----------------------------------------------------\n",
            "Generated Biden tweet of size  30  and prompt  My thoughts on George Floyd are  :\n",
            "my thoughts on george floyd are all american history towards progress. https : / t. co / / / t. co / / / / rq\n",
            "----------------------------------------------------\n",
            "\n",
            "----------------------------------------------------\n",
            "\n",
            "Evaluate last string in Trump data using Mean Log Likelihood\n",
            "Last string:\n",
            " Yesterday I spoke with the great American Grocers and Supply Chain Executives. We are confident that supply will continue to meet demand nationwide. These beacons of our community will remain open for you, no matter what. We are working hard to remove any barriers to that effort!\n",
            "Mean_logp =  -7.378954815463574\n",
            "----------------------------------------------------\n",
            "\n",
            "\n",
            "----------------------------------------------------\n",
            "Evaluate last string in Trump data using Mean Log Likelihood\n",
            "Last string:\n",
            " Yesterday I spoke with the great American Grocers and Supply Chain Executives. We are confident that supply will continue to meet demand nationwide. These beacons of our community will remain open for you, no matter what. We are working hard to remove any barriers to that effort!\n",
            "Mean_logp =  -7.225317569267262\n",
            "----------------------------------------------------\n",
            "----------------------------------------------------\n",
            "Using bayes rules to pick who wrote the last tweet in trumps data\n",
            "likelihoodTrump =  0.4616660629459915\n",
            "likelihoodBiden =  0.5383339370540084\n"
          ],
          "name": "stdout"
        },
        {
          "output_type": "stream",
          "text": [
            "/usr/local/lib/python3.6/dist-packages/scipy/sparse/_index.py:84: SparseEfficiencyWarning: Changing the sparsity structure of a csr_matrix is expensive. lil_matrix is more efficient.\n",
            "  self._set_intXint(row, col, x.flat[0])\n"
          ],
          "name": "stderr"
        },
        {
          "output_type": "stream",
          "text": [
            "\n",
            "------ROC----------\n",
            "Accuracy =  0.936\n",
            "fpr and tpr =  [0.    0.018 1.   ]  -  [0.   0.89 1.  ]\n"
          ],
          "name": "stdout"
        },
        {
          "output_type": "execute_result",
          "data": {
            "text/plain": [
              "Text(0, 0.5, 'True Positive Rate')"
            ]
          },
          "metadata": {
            "tags": []
          },
          "execution_count": 124
        },
        {
          "output_type": "display_data",
          "data": {
            "image/png": "[encoded data removed]",
            "text/plain": [
              "<Figure size 432x288 with 1 Axes>"
            ]
          },
          "metadata": {
            "tags": [],
            "needs_background": "light"
          }
        }
      ]
    }
  ]
}